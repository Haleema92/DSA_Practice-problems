{
  "nbformat": 4,
  "nbformat_minor": 0,
  "metadata": {
    "colab": {
      "provenance": []
    },
    "kernelspec": {
      "name": "python3",
      "display_name": "Python 3"
    },
    "language_info": {
      "name": "python"
    }
  },
  "cells": [
    {
      "cell_type": "markdown",
      "source": [
        "1. Write a Python program which accepts the radius of a circle from the user\n",
        "and compute the area.\n",
        "Sample input: Enter the radius: 3\n",
        "Sample output: Area of Circle is 28.59999999999"
      ],
      "metadata": {
        "id": "aQKY7CJIkEfj"
      }
    },
    {
      "cell_type": "code",
      "execution_count": null,
      "metadata": {
        "colab": {
          "base_uri": "https://localhost:8080/"
        },
        "id": "XOleyyDKjQbH",
        "outputId": "d7d26719-2457-4c1b-8472-742b2ca442bc"
      },
      "outputs": [
        {
          "output_type": "stream",
          "name": "stdout",
          "text": [
            "enter the radius3\n",
            "Area of circle is 28.259999999999998\n"
          ]
        }
      ],
      "source": [
        "pi=3.14\n",
        "r=float(input('enter the radius'))\n",
        "print('Area of circle is', pi*r*r)"
      ]
    },
    {
      "cell_type": "markdown",
      "source": [
        "2. Write a Python Program to accept the details of a student like name, roll\n",
        "number and mark and display it.\n",
        "Sample input: Enter the name: Anisha\n",
        "Enter the roll number: 21\n",
        "Enter the mark: 78\n",
        "Sample output: Name: Anisha\n",
        "Roll No: 21\n",
        "Mark: 78"
      ],
      "metadata": {
        "id": "6mSKkX9mlxuV"
      }
    },
    {
      "cell_type": "code",
      "source": [
        "name=input('enter a name')\n",
        "roll_no=input('enter the roll no:')\n",
        "mark=input('enter the mark')\n",
        "print('Name:', name)\n",
        "print('Roll no:' , roll_no)\n",
        "print('Mark:', mark)"
      ],
      "metadata": {
        "colab": {
          "base_uri": "https://localhost:8080/"
        },
        "id": "meUPkNQWl8bk",
        "outputId": "65e85f2a-eded-40fd-ac4c-0f71a08870fc"
      },
      "execution_count": null,
      "outputs": [
        {
          "output_type": "stream",
          "name": "stdout",
          "text": [
            "enter a nameAnisha\n",
            "enter the roll no:21\n",
            "enter the mark78\n",
            "Name: Anisha\n",
            "Roll no: 21\n",
            "Mark: 78\n"
          ]
        }
      ]
    },
    {
      "cell_type": "markdown",
      "source": [
        "3. Write a Python program to get the largest number from a list.\n",
        "Sample input: 12, 3, 47, 10\n",
        "Sample output: 47 is the largest number."
      ],
      "metadata": {
        "id": "XDo_ygtomP9Q"
      }
    },
    {
      "cell_type": "code",
      "source": [
        "a = [12,3,47,10]\n",
        "large_num = 0\n",
        "for i in a:\n",
        "    if i > large_num:\n",
        "        large_num = i\n",
        "print(large_num, 'is the largest number.')"
      ],
      "metadata": {
        "colab": {
          "base_uri": "https://localhost:8080/"
        },
        "id": "2Cb5-Ri5mZ1m",
        "outputId": "d34f1b9b-c216-4730-9bf6-d3220f0062e9"
      },
      "execution_count": null,
      "outputs": [
        {
          "output_type": "stream",
          "name": "stdout",
          "text": [
            "47 is the largest number.\n"
          ]
        }
      ]
    },
    {
      "cell_type": "markdown",
      "source": [
        "4. Given a range of first 10 numbers, write a Python program to iterate from\n",
        "start number to the end number and print the sum of the current number\n",
        "and previous number.\n",
        "Sample input: 1….10\n",
        "Sample output: Current Number 1 Previous Number 0 Sum: 1 Current\n",
        "Number 2 Previous Number 1 Sum: 3 Current Number 3 Previous\n",
        "Number 2 Sum: 5… Current Number 10 Previous Number 9 Sum: 19"
      ],
      "metadata": {
        "id": "_jSNyXlanzf8"
      }
    },
    {
      "cell_type": "code",
      "source": [
        "num = list(range(11))\n",
        "previousNum = 0\n",
        "for i in num:\n",
        "    sum = previousNum + i\n",
        "    print('Current Number ' + str(i) + ' Previous Number ' + ' is ' + str(previousNum))\n",
        "    previousNum=i\n",
        "    print('sum is ', sum)"
      ],
      "metadata": {
        "colab": {
          "base_uri": "https://localhost:8080/"
        },
        "id": "5o1STB6wok5B",
        "outputId": "c73df5ca-e062-4371-ef3e-3dad3f3ae271"
      },
      "execution_count": null,
      "outputs": [
        {
          "output_type": "stream",
          "name": "stdout",
          "text": [
            "Current Number 0 Previous Number  is 0\n",
            "sum is  0\n",
            "Current Number 1 Previous Number  is 0\n",
            "sum is  1\n",
            "Current Number 2 Previous Number  is 1\n",
            "sum is  3\n",
            "Current Number 3 Previous Number  is 2\n",
            "sum is  5\n",
            "Current Number 4 Previous Number  is 3\n",
            "sum is  7\n",
            "Current Number 5 Previous Number  is 4\n",
            "sum is  9\n",
            "Current Number 6 Previous Number  is 5\n",
            "sum is  11\n",
            "Current Number 7 Previous Number  is 6\n",
            "sum is  13\n",
            "Current Number 8 Previous Number  is 7\n",
            "sum is  15\n",
            "Current Number 9 Previous Number  is 8\n",
            "sum is  17\n",
            "Current Number 10 Previous Number  is 9\n",
            "sum is  19\n"
          ]
        }
      ]
    },
    {
      "cell_type": "markdown",
      "source": [
        "5. Write a Python program to print only those numbers which are divisible\n",
        "of 5.\n",
        "Sample input: 10, 20,33,46,55 Sample output: 10, 20, 55"
      ],
      "metadata": {
        "id": "VAeXcMgvs632"
      }
    },
    {
      "cell_type": "code",
      "source": [
        "a=[10,20,33,46,55]\n",
        "for i in a:\n",
        "    if i%5==0:\n",
        "           print(i)"
      ],
      "metadata": {
        "colab": {
          "base_uri": "https://localhost:8080/"
        },
        "id": "dC6MAD3btHKh",
        "outputId": "5f380053-c191-433b-fc7d-726c1967fdfe"
      },
      "execution_count": 40,
      "outputs": [
        {
          "output_type": "stream",
          "name": "stdout",
          "text": [
            "10\n",
            "20\n",
            "55\n"
          ]
        }
      ]
    },
    {
      "cell_type": "markdown",
      "source": [
        "6. Write a Python program to check whether a number is prime or not.\n",
        "Sample input: Enter the number: 3\n",
        "Sample output: 3 is a prime number"
      ],
      "metadata": {
        "id": "LeWM2Jiqt_4P"
      }
    },
    {
      "cell_type": "code",
      "source": [
        "num=int(input('Enter the number'))\n",
        "if num > 1:\n",
        "    for i in range(2, num):\n",
        "        if (num % i) == 0:\n",
        "            print(num, \"is not a prime number\")\n",
        "            break\n",
        "    else:\n",
        "        print(num, \"is a prime number\")\n",
        "else:\n",
        "    print(num, \"is not a prime number\")"
      ],
      "metadata": {
        "colab": {
          "base_uri": "https://localhost:8080/"
        },
        "id": "I0CwWRH1uV3v",
        "outputId": "8d92c003-7474-4026-f8dd-86666620f49c"
      },
      "execution_count": 41,
      "outputs": [
        {
          "output_type": "stream",
          "name": "stdout",
          "text": [
            "Enter the number3\n",
            "3 is a prime number\n"
          ]
        }
      ]
    },
    {
      "cell_type": "markdown",
      "source": [
        "7. Write a Python program to reverse a list using for loop.\n",
        "Sample input: 10,40,30,70\n",
        "Sample output: 70,30,40,10"
      ],
      "metadata": {
        "id": "5xkJvaJnxgnQ"
      }
    },
    {
      "cell_type": "code",
      "source": [
        "my_list=[10,40,30,70]\n",
        "new_list=[]\n",
        "for i in range(len(my_list)):\n",
        "    new_list.insert(i,my_list[-1])\n",
        "    my_list.pop(-1)\n",
        "    print(new_list)"
      ],
      "metadata": {
        "colab": {
          "base_uri": "https://localhost:8080/"
        },
        "id": "gQLY7riCxpv6",
        "outputId": "124ee0dc-c4f5-40b8-db4f-688a528a009f"
      },
      "execution_count": 42,
      "outputs": [
        {
          "output_type": "stream",
          "name": "stdout",
          "text": [
            "[70]\n",
            "[70, 30]\n",
            "[70, 30, 40]\n",
            "[70, 30, 40, 10]\n"
          ]
        }
      ]
    },
    {
      "cell_type": "markdown",
      "source": [
        "8. Write a Python program to print the following pattern.\n",
        "*\n",
        "**\n",
        "***\n",
        "****\n"
      ],
      "metadata": {
        "id": "wKE-u0pWzn2G"
      }
    },
    {
      "cell_type": "code",
      "source": [
        "rows = 4\n",
        "for i in range(0, rows):\n",
        "    # nested loop for each column\n",
        "    for j in range(0, i + 1):\n",
        "        # print star\n",
        "        print(\"*\", end=' ')\n",
        "    # new line after each row\n",
        "    print(\"\\r\")"
      ],
      "metadata": {
        "colab": {
          "base_uri": "https://localhost:8080/"
        },
        "id": "8a8pxgpq0fx7",
        "outputId": "664c6fc1-0bb9-497e-ee58-0af2b05e8941"
      },
      "execution_count": 43,
      "outputs": [
        {
          "output_type": "stream",
          "name": "stdout",
          "text": [
            "* \r\n",
            "* * \r\n",
            "* * * \r\n",
            "* * * * \r\n"
          ]
        }
      ]
    },
    {
      "cell_type": "markdown",
      "source": [
        "9. Write a Python program to find the maximum of three numbers\n",
        "Sample input: 34,12,7\n",
        "Sample output: 34"
      ],
      "metadata": {
        "id": "j-FACbHE06kA"
      }
    },
    {
      "cell_type": "code",
      "source": [
        "def maximum(a, b, c):\n",
        "\n",
        "    if (a >= b) and (a >= c):\n",
        "        largest = a\n",
        "\n",
        "    elif (b >= a) and (b >= c):\n",
        "        largest = b\n",
        "    else:\n",
        "        largest = c\n",
        "\n",
        "    return largest\n",
        "a = int(input('Enter the 1st number'))\n",
        "b = int(input('Enter the 2nd number'))\n",
        "c = int(input('Enter the 3rd number'))\n",
        "print(maximum(a, b, c))"
      ],
      "metadata": {
        "colab": {
          "base_uri": "https://localhost:8080/"
        },
        "id": "U9XMlqAcgV9b",
        "outputId": "2223b13d-1f81-4b1e-9ba8-39294f096bc9"
      },
      "execution_count": 35,
      "outputs": [
        {
          "output_type": "stream",
          "name": "stdout",
          "text": [
            "Enter the 1st number34\n",
            "Enter the 2nd number12\n",
            "Enter the 3rd number7\n",
            "34\n"
          ]
        }
      ]
    },
    {
      "cell_type": "code",
      "source": [
        "def maximum(a,b,c):\n",
        "  list = [a,b,c]\n",
        "  return max(list)\n",
        "a=34\n",
        "b=12\n",
        "c=7\n",
        "print(maximum(a,b,c))"
      ],
      "metadata": {
        "colab": {
          "base_uri": "https://localhost:8080/"
        },
        "id": "Z257zBWJ2xOa",
        "outputId": "c7ccc881-f336-47cf-cb3c-a2814076ab48"
      },
      "execution_count": 36,
      "outputs": [
        {
          "output_type": "stream",
          "name": "stdout",
          "text": [
            "34\n"
          ]
        }
      ]
    },
    {
      "cell_type": "code",
      "source": [
        "list = [34,12,7]\n",
        "max(list)"
      ],
      "metadata": {
        "colab": {
          "base_uri": "https://localhost:8080/"
        },
        "id": "_sSJjQWufh26",
        "outputId": "5a6144fa-2ee8-4dd1-ed6a-ab3367feb4b3"
      },
      "execution_count": 38,
      "outputs": [
        {
          "output_type": "execute_result",
          "data": {
            "text/plain": [
              "34"
            ]
          },
          "metadata": {},
          "execution_count": 38
        }
      ]
    },
    {
      "cell_type": "markdown",
      "source": [
        "10. Write a Python program to construct the following pattern, using a\n",
        "nested for loop.\n",
        "*\n",
        "**\n",
        "***\n",
        "****\n",
        "*****\n",
        "****\n",
        "***\n",
        "**\n",
        "*"
      ],
      "metadata": {
        "id": "_OaWYgYrpcmP"
      }
    },
    {
      "cell_type": "code",
      "source": [
        "n=5\n",
        "for i in range(n):\n",
        "  for j in range(i):\n",
        "     print('* ', end=\"\")\n",
        "  print('')\n",
        "for i in range(n, 0, -1):\n",
        "  for j in range(i):\n",
        "    print('* ', end=\"\")\n",
        "  print('')"
      ],
      "metadata": {
        "colab": {
          "base_uri": "https://localhost:8080/"
        },
        "id": "tnkuxY0yiix0",
        "outputId": "abd2a3be-b82e-407a-d933-6f5049fdb41e"
      },
      "execution_count": 39,
      "outputs": [
        {
          "output_type": "stream",
          "name": "stdout",
          "text": [
            "\n",
            "* \n",
            "* * \n",
            "* * * \n",
            "* * * * \n",
            "* * * * * \n",
            "* * * * \n",
            "* * * \n",
            "* * \n",
            "* \n"
          ]
        }
      ]
    }
  ]
}