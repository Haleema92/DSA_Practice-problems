{
  "nbformat": 4,
  "nbformat_minor": 0,
  "metadata": {
    "colab": {
      "provenance": []
    },
    "kernelspec": {
      "name": "python3",
      "display_name": "Python 3"
    },
    "language_info": {
      "name": "python"
    }
  },
  "cells": [
    {
      "cell_type": "markdown",
      "source": [
        "1. Write a Python program to accept a string value from the user and display\n",
        "the count of each character in that string. Sample input: Enter a string\n",
        "value: assembly Sample output: a=1, s=2, e=1, m=1, b=1, l=1, y=1"
      ],
      "metadata": {
        "id": "EUPMl1eFsZM4"
      }
    },
    {
      "cell_type": "code",
      "execution_count": 2,
      "metadata": {
        "colab": {
          "base_uri": "https://localhost:8080/"
        },
        "id": "5gc3s9vgsA5k",
        "outputId": "4c43a471-37b2-4f74-9eed-5ffe66562bc1"
      },
      "outputs": [
        {
          "output_type": "stream",
          "name": "stdout",
          "text": [
            "Please enter your own Stringassembly\n",
            "Count of all characters in :\n",
            "  assembly is{'a': 1, 's': 2, 'e': 1, 'm': 1, 'b': 1, 'l': 1, 'y': 1}\n"
          ]
        }
      ],
      "source": [
        "test_str = input(\"Please enter your own String\")\n",
        "all_freq = {}\n",
        "\n",
        "for i in test_str:\n",
        "    if i in all_freq:\n",
        "        all_freq[i] += 1\n",
        "    else:\n",
        "        all_freq[i] = 1\n",
        "\n",
        "print(\"Count of all characters in :\\n \" , test_str , \"is\" + str(all_freq))"
      ]
    },
    {
      "cell_type": "markdown",
      "source": [
        "2. Write a Python function to find the maximum of three numbers Sample\n",
        "input: 34,12,7 Sample output: 34"
      ],
      "metadata": {
        "id": "lSYAJxorutdi"
      }
    },
    {
      "cell_type": "code",
      "source": [
        "def find_max(a, b, c):\n",
        "    return max(a, b, c)\n",
        "print(find_max(34,12,7))"
      ],
      "metadata": {
        "colab": {
          "base_uri": "https://localhost:8080/"
        },
        "id": "jJyRydFcu3Ax",
        "outputId": "f34bb9bb-b968-4e3a-91c3-da532d63b113"
      },
      "execution_count": 5,
      "outputs": [
        {
          "output_type": "stream",
          "name": "stdout",
          "text": [
            "34\n"
          ]
        }
      ]
    },
    {
      "cell_type": "markdown",
      "source": [
        "3. Write a Python function called exponent(base,exp) that returns an\n",
        "integer value of base raises to the power of exp. Sample input: Enter the\n",
        "base: 2 Enter the exponent: 3 Sample output: 8"
      ],
      "metadata": {
        "id": "5uPfMAF8v3cJ"
      }
    },
    {
      "cell_type": "code",
      "source": [
        "base = int(input(\"Enter the base: \"))\n",
        "\n",
        "exp = int(input(\"Enterthe exponent: \"))\n",
        "\n",
        "def exponent(base, exp):\n",
        "\n",
        "   return pow(base,exp)\n",
        "\n",
        "exponent(base, exp)"
      ],
      "metadata": {
        "colab": {
          "base_uri": "https://localhost:8080/"
        },
        "id": "xE9x1YNowjog",
        "outputId": "30a9f28f-92a0-41ae-94ec-1b3cc132cdab"
      },
      "execution_count": 7,
      "outputs": [
        {
          "name": "stdout",
          "output_type": "stream",
          "text": [
            "Enter the base: 2\n",
            "Enterthe exponent: 3\n"
          ]
        },
        {
          "output_type": "execute_result",
          "data": {
            "text/plain": [
              "8"
            ]
          },
          "metadata": {},
          "execution_count": 7
        }
      ]
    },
    {
      "cell_type": "markdown",
      "source": [
        "4. Write a Python function that takes a positive integer and returns the sum\n",
        "of the cube of all the positive integers smaller than the specified number.\n",
        "Sample input: 4 Sample output: 36."
      ],
      "metadata": {
        "id": "fOOvf1Exwzs5"
      }
    },
    {
      "cell_type": "code",
      "source": [
        "def sum_of_cubes(n):\n",
        "    n -= 1\n",
        "    total = 0\n",
        "    while n > 0:\n",
        "        total += n * n * n\n",
        "        n -= 1\n",
        "    return total\n",
        "n = int(input(\"enter a number\"))\n",
        "print(\"Sum of cubes smaller than the specified number: \", sum_of_cubes(n))\n"
      ],
      "metadata": {
        "colab": {
          "base_uri": "https://localhost:8080/"
        },
        "id": "ToLfu4Iwx3ak",
        "outputId": "647e2043-74ec-423c-fbd2-bfdcd68ba102"
      },
      "execution_count": 13,
      "outputs": [
        {
          "output_type": "stream",
          "name": "stdout",
          "text": [
            "enter a number4\n",
            "Sum of cubes smaller than the specified number:  36\n"
          ]
        }
      ]
    },
    {
      "cell_type": "markdown",
      "source": [
        "5. Write a Python program which iterates from 1 to 10. For multiples of 2,\n",
        "print “Fizz” instead of the number and for the multiples of 5, print “Buzz”.\n",
        "For numbers which are multiples of both 2 and 5, print “FizzBuzz”.\n",
        "Sample input: numbers from 1 to 10 Sample output: 1 Fizz 3 Fizz Buzz\n",
        "Fizz 7 Fizz 9 FizzBuzz"
      ],
      "metadata": {
        "id": "NhIxCGDJz4eL"
      }
    },
    {
      "cell_type": "code",
      "source": [
        "for fizzbuzz in range(11):\n",
        "    if fizzbuzz % 2 == 0 and fizzbuzz % 5 == 0:\n",
        "        print(\"fizzbuzz\")\n",
        "        continue\n",
        "    elif fizzbuzz % 2 == 0:\n",
        "        print(\"fizz\")\n",
        "        continue\n",
        "    elif fizzbuzz % 5 == 0:\n",
        "        print(\"buzz\")\n",
        "        continue\n",
        "    print(fizzbuzz)\n",
        ""
      ],
      "metadata": {
        "colab": {
          "base_uri": "https://localhost:8080/"
        },
        "id": "GpZ2u7ZPzx7U",
        "outputId": "97314cf2-e3ba-4a5e-8080-2b29fbddc469"
      },
      "execution_count": 14,
      "outputs": [
        {
          "output_type": "stream",
          "name": "stdout",
          "text": [
            "fizzbuzz\n",
            "1\n",
            "fizz\n",
            "3\n",
            "fizz\n",
            "buzz\n",
            "fizz\n",
            "7\n",
            "fizz\n",
            "9\n",
            "fizzbuzz\n"
          ]
        }
      ]
    },
    {
      "cell_type": "markdown",
      "source": [
        "6. Write a Python program to find the most frequent item in a list of\n",
        "numbers. Sample input: 2, 3, 4, 2, 5, 2 Sample output: 2"
      ],
      "metadata": {
        "id": "46kDBDGy1LRD"
      }
    },
    {
      "cell_type": "code",
      "source": [
        "def most_frequent(List):\n",
        "    counter = 0\n",
        "    num = List[0]\n",
        "\n",
        "    for i in List:\n",
        "        curr_frequency = List.count(i)\n",
        "        if(curr_frequency> counter):\n",
        "            counter = curr_frequency\n",
        "            num = i\n",
        "    return num\n",
        "\n",
        "List = [2, 3, 4, 2, 5, 2]\n",
        "print(most_frequent(List))"
      ],
      "metadata": {
        "colab": {
          "base_uri": "https://localhost:8080/"
        },
        "id": "E-_1q8741j6M",
        "outputId": "89b4f5fe-24b1-474d-e33e-53d26c2c7574"
      },
      "execution_count": 15,
      "outputs": [
        {
          "output_type": "stream",
          "name": "stdout",
          "text": [
            "2\n"
          ]
        }
      ]
    },
    {
      "cell_type": "markdown",
      "source": [
        "7. Write a Python program to find the sum of squares of the numbers in a\n",
        "list. Sample input: 2,1,3,1 Sample output: 15"
      ],
      "metadata": {
        "id": "B1i6uVgh1z7R"
      }
    },
    {
      "cell_type": "code",
      "source": [
        "test_list = [2, 1, 3, 1]\n",
        "sum_of_squares = sum([i**2 for i in test_list])\n",
        "print(\"The sum of squares of list is : \" + str(sum_of_squares))"
      ],
      "metadata": {
        "colab": {
          "base_uri": "https://localhost:8080/"
        },
        "id": "vQo1YPmW2c5i",
        "outputId": "cd178356-678b-4514-b65b-1b09d073e0c8"
      },
      "execution_count": 17,
      "outputs": [
        {
          "output_type": "stream",
          "name": "stdout",
          "text": [
            "The sum of squares of list is : 15\n"
          ]
        }
      ]
    },
    {
      "cell_type": "markdown",
      "source": [
        "8. Write a Python program using for loop that will iterate from 1 to 15. For\n",
        "each iteration, check if the current number is odd or even, and display the\n",
        "message to the screen as odd or even. Sample input: 1….15 Sample\n",
        "output: 1-odd 2-even …. 15-odd"
      ],
      "metadata": {
        "id": "yv_140xK3P9j"
      }
    },
    {
      "cell_type": "code",
      "source": [
        "\n",
        "for x in range (1, 16):\n",
        "   if (x % 2 == 0):\n",
        "     print(str(x) + \" is even\")\n",
        "   else:\n",
        "     print(str(x) + \" is odd\")"
      ],
      "metadata": {
        "colab": {
          "base_uri": "https://localhost:8080/"
        },
        "id": "Y9jQ_UKk3b-g",
        "outputId": "43374d1c-1c04-4722-bc44-8eeab6aecfe9"
      },
      "execution_count": 19,
      "outputs": [
        {
          "output_type": "stream",
          "name": "stdout",
          "text": [
            "1 is odd\n",
            "2 is even\n",
            "3 is odd\n",
            "4 is even\n",
            "5 is odd\n",
            "6 is even\n",
            "7 is odd\n",
            "8 is even\n",
            "9 is odd\n",
            "10 is even\n",
            "11 is odd\n",
            "12 is even\n",
            "13 is odd\n",
            "14 is even\n",
            "15 is odd\n"
          ]
        }
      ]
    },
    {
      "cell_type": "markdown",
      "source": [
        "9. Write a Python program to convert temperatures to and from Celsius\n",
        "Fahrenheit. [Formula: c/5=f-32/9 where c=temperature in Celsius and f=\n",
        "temperature in Fahrenheit.] Sample input: Temperature in Fahrenheit\n",
        "=41 Sample output: Temperature in Celsius =5"
      ],
      "metadata": {
        "id": "6DQGbGxB6JZy"
      }
    },
    {
      "cell_type": "code",
      "source": [
        "def convert_fahrenheit_to_celsius(fahrenheit):\n",
        "    celsius = float(fahrenheit - 32) * 5 / 9\n",
        "    return celsius\n",
        "def convert_celsius_to_fahrenheit(celsius):\n",
        "    fahrenheit = (float(celsius) * 9 / 5 + 32)\n",
        "    return fahrenheit\n",
        "\n",
        "fahrenheit = float(input(\"Enter temperature in fahrenheit\"))\n",
        "print(convert_fahrenheit_to_celsius(fahrenheit))\n",
        "celsius = float(input(\"enter temperature in celsius\"))\n",
        "print(convert_celsius_to_fahrenheit(celsius))\n",
        "\n",
        "\n"
      ],
      "metadata": {
        "colab": {
          "base_uri": "https://localhost:8080/"
        },
        "id": "aEr6Ds_B7HR2",
        "outputId": "47c3717e-0c5a-42c4-d94d-c55090a51bed"
      },
      "execution_count": 29,
      "outputs": [
        {
          "output_type": "stream",
          "name": "stdout",
          "text": [
            "Enter temperature in fahrenheit41\n",
            "5.0\n",
            "enter temperature in celsius5\n",
            "41.0\n"
          ]
        }
      ]
    },
    {
      "cell_type": "markdown",
      "source": [
        "10. Write a Python function to calculate the factorial of a number (a\n",
        "nonnegative integer). The function accepts the number as an argument.\n",
        "Sample input: 3 Sample output: 6"
      ],
      "metadata": {
        "id": "DdEzfCKVC0aw"
      }
    },
    {
      "cell_type": "code",
      "source": [
        "def factorial(n):\n",
        "\treturn 1 if (n==1 or n==0) else n * factorial(n - 1)\n",
        "num = 3\n",
        "print(\"Factorial of\",num,\"is\",factorial(num))\n"
      ],
      "metadata": {
        "colab": {
          "base_uri": "https://localhost:8080/"
        },
        "id": "XBr9736mC8x0",
        "outputId": "28bf29c8-55f1-4b56-b149-f320ba87837a"
      },
      "execution_count": 33,
      "outputs": [
        {
          "output_type": "stream",
          "name": "stdout",
          "text": [
            "Factorial of 3 is 6\n"
          ]
        }
      ]
    }
  ]
}